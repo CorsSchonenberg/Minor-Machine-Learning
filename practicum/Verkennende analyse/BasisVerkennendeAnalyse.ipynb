{
 "cells": [
  {
   "cell_type": "markdown",
   "id": "482ab059",
   "metadata": {},
   "source": [
    "# Verkennende analyse Student Performance dataset\n",
    "\n",
    "In dit notebook doen we een verkennende analyse op een subset van de student performance dataset. De Student Performance dataset bevat data over de performance van studenten bij twee verschillende Portugese scholen.\n",
    "\n",
    "![](https://odinland.vn/wp-content/uploads/2020/06/29.06-portugal.jpg)\n",
    "\n",
    "De dataset kun je vinden op Teams.\n",
    "\n",
    "\n",
    "Het doel van de verkennende analyse is om een eerste inzicht in de data te krijgen zonder bezig te zijn met het beantwoorden van een specifieke onderzoeksvraag. Wel houden we in ons achterhoofd dat we de dataset mogelijk willen gebruiken voor machine learning.\n",
    "\n",
    "\n",
    "Het doel van de verkennende analyse is om een eerste inzicht in de data te krijgen zonder bezig te zijn met het beantwoorden van een specifieke onderzoeksvraag. Wel houden we in ons achterhoofd dat we de dataset mogelijk willen gebruiken voor machine learning.\n",
    "\n",
    "We zetten de verkennende analyse systematisch op door naar de volgende onderwerpen te kijken:\n",
    "- Data en data dictionary\n",
    "- De afzonderlijke variabelen\n",
    "- Relaties tussen de variabelen\n",
    "\n",
    "We beginnen zoals gebruikelijk met de import statements."
   ]
  },
  {
   "cell_type": "code",
   "execution_count": 1,
   "id": "1f27b848",
   "metadata": {},
   "outputs": [],
   "source": [
    "import pandas as pd\n",
    "import numpy as np\n",
    "import seaborn as sns\n",
    "\n",
    "import scipy.stats as stats"
   ]
  },
  {
   "cell_type": "markdown",
   "id": "a3a7a899",
   "metadata": {},
   "source": [
    "## Data en data dictionary\n",
    "\n",
    "Hieronder lezen we de dataset in en tonen we enkele rijen."
   ]
  },
  {
   "cell_type": "code",
   "execution_count": 2,
   "id": "37e717bb",
   "metadata": {},
   "outputs": [
    {
     "data": {
      "text/html": [
       "<div>\n",
       "<style scoped>\n",
       "    .dataframe tbody tr th:only-of-type {\n",
       "        vertical-align: middle;\n",
       "    }\n",
       "\n",
       "    .dataframe tbody tr th {\n",
       "        vertical-align: top;\n",
       "    }\n",
       "\n",
       "    .dataframe thead th {\n",
       "        text-align: right;\n",
       "    }\n",
       "</style>\n",
       "<table border=\"1\" class=\"dataframe\">\n",
       "  <thead>\n",
       "    <tr style=\"text-align: right;\">\n",
       "      <th></th>\n",
       "      <th>age</th>\n",
       "      <th>sex</th>\n",
       "      <th>Medu</th>\n",
       "      <th>Fedu</th>\n",
       "      <th>reason</th>\n",
       "      <th>absences</th>\n",
       "      <th>G1</th>\n",
       "      <th>G3</th>\n",
       "    </tr>\n",
       "  </thead>\n",
       "  <tbody>\n",
       "    <tr>\n",
       "      <th>0</th>\n",
       "      <td>18</td>\n",
       "      <td>F</td>\n",
       "      <td>4</td>\n",
       "      <td>4</td>\n",
       "      <td>course</td>\n",
       "      <td>6</td>\n",
       "      <td>5</td>\n",
       "      <td>6</td>\n",
       "    </tr>\n",
       "    <tr>\n",
       "      <th>1</th>\n",
       "      <td>17</td>\n",
       "      <td>F</td>\n",
       "      <td>1</td>\n",
       "      <td>1</td>\n",
       "      <td>course</td>\n",
       "      <td>4</td>\n",
       "      <td>5</td>\n",
       "      <td>6</td>\n",
       "    </tr>\n",
       "    <tr>\n",
       "      <th>2</th>\n",
       "      <td>15</td>\n",
       "      <td>F</td>\n",
       "      <td>1</td>\n",
       "      <td>1</td>\n",
       "      <td>other</td>\n",
       "      <td>10</td>\n",
       "      <td>7</td>\n",
       "      <td>10</td>\n",
       "    </tr>\n",
       "    <tr>\n",
       "      <th>3</th>\n",
       "      <td>15</td>\n",
       "      <td>F</td>\n",
       "      <td>4</td>\n",
       "      <td>2</td>\n",
       "      <td>home</td>\n",
       "      <td>2</td>\n",
       "      <td>15</td>\n",
       "      <td>15</td>\n",
       "    </tr>\n",
       "    <tr>\n",
       "      <th>4</th>\n",
       "      <td>16</td>\n",
       "      <td>F</td>\n",
       "      <td>3</td>\n",
       "      <td>3</td>\n",
       "      <td>home</td>\n",
       "      <td>4</td>\n",
       "      <td>6</td>\n",
       "      <td>10</td>\n",
       "    </tr>\n",
       "    <tr>\n",
       "      <th>...</th>\n",
       "      <td>...</td>\n",
       "      <td>...</td>\n",
       "      <td>...</td>\n",
       "      <td>...</td>\n",
       "      <td>...</td>\n",
       "      <td>...</td>\n",
       "      <td>...</td>\n",
       "      <td>...</td>\n",
       "    </tr>\n",
       "    <tr>\n",
       "      <th>1039</th>\n",
       "      <td>19</td>\n",
       "      <td>F</td>\n",
       "      <td>2</td>\n",
       "      <td>3</td>\n",
       "      <td>course</td>\n",
       "      <td>4</td>\n",
       "      <td>10</td>\n",
       "      <td>10</td>\n",
       "    </tr>\n",
       "    <tr>\n",
       "      <th>1040</th>\n",
       "      <td>18</td>\n",
       "      <td>F</td>\n",
       "      <td>3</td>\n",
       "      <td>1</td>\n",
       "      <td>course</td>\n",
       "      <td>4</td>\n",
       "      <td>15</td>\n",
       "      <td>16</td>\n",
       "    </tr>\n",
       "    <tr>\n",
       "      <th>1041</th>\n",
       "      <td>18</td>\n",
       "      <td>F</td>\n",
       "      <td>1</td>\n",
       "      <td>1</td>\n",
       "      <td>course</td>\n",
       "      <td>6</td>\n",
       "      <td>11</td>\n",
       "      <td>9</td>\n",
       "    </tr>\n",
       "    <tr>\n",
       "      <th>1042</th>\n",
       "      <td>17</td>\n",
       "      <td>M</td>\n",
       "      <td>3</td>\n",
       "      <td>1</td>\n",
       "      <td>course</td>\n",
       "      <td>6</td>\n",
       "      <td>10</td>\n",
       "      <td>10</td>\n",
       "    </tr>\n",
       "    <tr>\n",
       "      <th>1043</th>\n",
       "      <td>18</td>\n",
       "      <td>M</td>\n",
       "      <td>3</td>\n",
       "      <td>2</td>\n",
       "      <td>course</td>\n",
       "      <td>4</td>\n",
       "      <td>10</td>\n",
       "      <td>11</td>\n",
       "    </tr>\n",
       "  </tbody>\n",
       "</table>\n",
       "<p>1044 rows × 8 columns</p>\n",
       "</div>"
      ],
      "text/plain": [
       "      age sex  Medu  Fedu  reason  absences  G1  G3\n",
       "0      18   F     4     4  course         6   5   6\n",
       "1      17   F     1     1  course         4   5   6\n",
       "2      15   F     1     1   other        10   7  10\n",
       "3      15   F     4     2    home         2  15  15\n",
       "4      16   F     3     3    home         4   6  10\n",
       "...   ...  ..   ...   ...     ...       ...  ..  ..\n",
       "1039   19   F     2     3  course         4  10  10\n",
       "1040   18   F     3     1  course         4  15  16\n",
       "1041   18   F     1     1  course         6  11   9\n",
       "1042   17   M     3     1  course         6  10  10\n",
       "1043   18   M     3     2  course         4  10  11\n",
       "\n",
       "[1044 rows x 8 columns]"
      ]
     },
     "execution_count": 2,
     "metadata": {},
     "output_type": "execute_result"
    }
   ],
   "source": [
    "df = pd.read_csv('studenten/student_performance_basis.csv',sep=',')\n",
    "df"
   ]
  },
  {
   "cell_type": "markdown",
   "id": "a05a1bd5",
   "metadata": {},
   "source": [
    "Op grond van het bekijken van de inhoud in bovenstaand dataframe en met behulp van de informatie op [Archive](https://archive.ics.uci.edu/dataset/320/student+performance) kunnen we komen de volgende data dictionary."
   ]
  },
  {
   "cell_type": "markdown",
   "id": "43166890",
   "metadata": {},
   "source": [
    "| Variabele naam | Datatype | Numeriek/Categorisch | Soort Variabele | Toelinchting                                                                               |\n",
    "|----------------|----------|----------------------|-----------------|--------------------------------------------------------------------------------------------|\n",
    "| age            | Integer  | Numeriek             | Ratio           | students age                                                     |      \n",
    "| sex            | String   | Categorisch          | Nominaal        | students sex                                              |\n",
    "| Medu           | Integer  | Categorisch          | Ordinaal        | mothers education  |\n",
    "| Fedu           | Integer  | Categorisch          | Ordinaal        | fathers education  |\n",
    "| reason         | String   | Categorisch          | Nominaal        | reason to choose this school  |\n",
    "| absences       | Integer  | Numeriek             | Ratio           | number of school absences|\n",
    "| G1             | Integer  | Numeriek             | Interval        | first period grade  |\n",
    "| G3             | Integer  | Numeriek             | Interval        | final grade|\n"
   ]
  },
  {
   "cell_type": "markdown",
   "id": "f142e962",
   "metadata": {},
   "source": [
    "Merk op dat we Medu en Fedu zien als categorisch ondanks het Integer datatype. Ik zie de cijfers als labels, niet als getal. We controleren welke datatypes pandas heeft toegekend."
   ]
  },
  {
   "cell_type": "code",
   "execution_count": 3,
   "id": "6de5354d",
   "metadata": {},
   "outputs": [
    {
     "name": "stdout",
     "output_type": "stream",
     "text": [
      "<class 'pandas.core.frame.DataFrame'>\n",
      "RangeIndex: 1044 entries, 0 to 1043\n",
      "Data columns (total 8 columns):\n",
      " #   Column    Non-Null Count  Dtype \n",
      "---  ------    --------------  ----- \n",
      " 0   age       1044 non-null   int64 \n",
      " 1   sex       1044 non-null   object\n",
      " 2   Medu      1044 non-null   int64 \n",
      " 3   Fedu      1044 non-null   int64 \n",
      " 4   reason    1044 non-null   object\n",
      " 5   absences  1044 non-null   int64 \n",
      " 6   G1        1044 non-null   int64 \n",
      " 7   G3        1044 non-null   int64 \n",
      "dtypes: int64(6), object(2)\n",
      "memory usage: 65.4+ KB\n"
     ]
    }
   ],
   "source": [
    "df.info()"
   ]
  },
  {
   "cell_type": "markdown",
   "id": "797487ca",
   "metadata": {},
   "source": [
    "verder is het ook belangrijk om te kijken of er waardes missen. Als deze missen, moeten ze op een of andere manier verwerkt worden."
   ]
  },
  {
   "cell_type": "code",
   "execution_count": 4,
   "id": "8452620f",
   "metadata": {},
   "outputs": [
    {
     "data": {
      "text/plain": [
       "age         0\n",
       "sex         0\n",
       "Medu        0\n",
       "Fedu        0\n",
       "reason      0\n",
       "absences    0\n",
       "G1          0\n",
       "G3          0\n",
       "dtype: int64"
      ]
     },
     "execution_count": 4,
     "metadata": {},
     "output_type": "execute_result"
    }
   ],
   "source": [
    "df.isnull().sum()"
   ]
  },
  {
   "cell_type": "markdown",
   "id": "a1616fd1",
   "metadata": {},
   "source": [
    "Mooi! missen geen enkele waarde. Dit komt haast nooit voor."
   ]
  },
  {
   "cell_type": "markdown",
   "id": "8eb66b25",
   "metadata": {},
   "source": [
    "## Afzonderlijke variabelen\n",
    "\n",
    "We gaan nu de afzonderlijke variabelen bekijken. Het is daarbij handig een onderscheid te maken tussen categorische en numerieke variabelen. Het is een goede gewoonte om een lijstje te maken met de namen van de categorische variabelen en de numerieke variabelen."
   ]
  },
  {
   "cell_type": "code",
   "execution_count": 5,
   "id": "4700fee9",
   "metadata": {},
   "outputs": [],
   "source": [
    "cat_vars = ['sex', 'Medu', 'Fedu', 'reason']\n",
    "num_vars = ['age', 'absences', 'G1', 'G3']"
   ]
  },
  {
   "cell_type": "markdown",
   "id": "d53e68e6",
   "metadata": {},
   "source": [
    "### Categorische variabelen\n",
    "\n",
    "Nu bekijken we stuk voor stuk de categorische variabelen.\n",
    "\n",
    "#### sex\n",
    "\n",
    "sex zegt iets overhet geslacht van de student.  We zijn geïnteresseerd welke mogelijke waarden sex kan hebben en hoe vaak die voorkomen."
   ]
  },
  {
   "cell_type": "code",
   "execution_count": 6,
   "id": "be7897da",
   "metadata": {},
   "outputs": [
    {
     "data": {
      "text/plain": [
       "sex\n",
       "F    591\n",
       "M    453\n",
       "Name: count, dtype: int64"
      ]
     },
     "execution_count": 6,
     "metadata": {},
     "output_type": "execute_result"
    }
   ],
   "source": [
    "df['sex'].value_counts()"
   ]
  },
  {
   "cell_type": "markdown",
   "id": "41d63f45",
   "metadata": {},
   "source": [
    "Dat ziet eruit zoals we willen. Het ziet er naar uit dat de dataset meer vrouwen bevat dan mannen. Nu bekijken we de sex in een frequentieverdeling."
   ]
  },
  {
   "cell_type": "code",
   "execution_count": 7,
   "id": "9f098e12",
   "metadata": {},
   "outputs": [
    {
     "data": {
      "text/plain": [
       "<Axes: xlabel='sex', ylabel='count'>"
      ]
     },
     "execution_count": 7,
     "metadata": {},
     "output_type": "execute_result"
    },
    {
     "data": {
      "image/png": "[encoded data removed]",
      "text/plain": [
       "<Figure size 640x480 with 1 Axes>"
      ]
     },
     "metadata": {},
     "output_type": "display_data"
    }
   ],
   "source": [
    "sns.countplot(df, x = \"sex\")"
   ]
  },
  {
   "cell_type": "markdown",
   "id": "af311e7e",
   "metadata": {},
   "source": [
    "Hier komt uiteraard hetzelfde uit.\n",
    "\n",
    "### Medu\n",
    "\n",
    "Medu laat de hoogte van de educatie van de moeder zien. We zijn geïnteresseerd welke mogelijke waarden sex kan hebben en hoe vaak die voorkomen."
   ]
  },
  {
   "cell_type": "code",
   "execution_count": 8,
   "id": "5024ee40",
   "metadata": {},
   "outputs": [
    {
     "data": {
      "text/plain": [
       "Medu\n",
       "4    306\n",
       "2    289\n",
       "3    238\n",
       "1    202\n",
       "0      9\n",
       "Name: count, dtype: int64"
      ]
     },
     "execution_count": 8,
     "metadata": {},
     "output_type": "execute_result"
    }
   ],
   "source": [
    "df['Medu'].value_counts()"
   ]
  },
  {
   "cell_type": "markdown",
   "id": "b36aae8a",
   "metadata": {},
   "source": [
    "We maken hier ook de frequentieverdeling"
   ]
  },
  {
   "cell_type": "code",
   "execution_count": 9,
   "id": "d8440cb8",
   "metadata": {},
   "outputs": [
    {
     "data": {
      "text/plain": [
       "<Axes: xlabel='Medu', ylabel='count'>"
      ]
     },
     "execution_count": 9,
     "metadata": {},
     "output_type": "execute_result"
    },
    {
     "data": {
      "image/png": "[encoded data removed]",
      "text/plain": [
       "<Figure size 640x480 with 1 Axes>"
      ]
     },
     "metadata": {},
     "output_type": "display_data"
    }
   ],
   "source": [
    "sns.countplot(df, x = \"Medu\")"
   ]
  },
  {
   "cell_type": "markdown",
   "id": "86e304df",
   "metadata": {},
   "source": [
    "Hier zien we dat de moeder van de student bijna nooit de educatie '0' heeft gehad.\n",
    "\n",
    "### Fedu\n",
    "\n",
    "Fedu laat de hoogte van de educatie van de vader zien. We zijn geïnteresseerd welke mogelijke waarden sex kan hebben en hoe vaak die voorkomen."
   ]
  },
  {
   "cell_type": "code",
   "execution_count": 10,
   "id": "ff59c781",
   "metadata": {},
   "outputs": [
    {
     "data": {
      "text/plain": [
       "Fedu\n",
       "2    324\n",
       "1    256\n",
       "3    231\n",
       "4    224\n",
       "0      9\n",
       "Name: count, dtype: int64"
      ]
     },
     "execution_count": 10,
     "metadata": {},
     "output_type": "execute_result"
    }
   ],
   "source": [
    "df['Fedu'].value_counts()"
   ]
  },
  {
   "cell_type": "markdown",
   "id": "678fba8c",
   "metadata": {},
   "source": [
    "Hier ook de frequentieverdeling"
   ]
  },
  {
   "cell_type": "code",
   "execution_count": 11,
   "id": "eea55705",
   "metadata": {},
   "outputs": [
    {
     "data": {
      "text/plain": [
       "<Axes: xlabel='Fedu', ylabel='count'>"
      ]
     },
     "execution_count": 11,
     "metadata": {},
     "output_type": "execute_result"
    },
    {
     "data": {
      "image/png": "[encoded data removed]",
      "text/plain": [
       "<Figure size 640x480 with 1 Axes>"
      ]
     },
     "metadata": {},
     "output_type": "display_data"
    }
   ],
   "source": [
    "sns.countplot(df, x = \"Fedu\")"
   ]
  },
  {
   "cell_type": "markdown",
   "id": "d4f0083d",
   "metadata": {},
   "source": [
    "Hier zien we dat de vader van de student bijna nooit de educatie '0' heeft gehad.\n",
    "\n",
    "### reason\n",
    "\n",
    "reason laat de reden zien waarom de student voor deze school heeft gekozen. We zijn geïnteresseerd welke mogelijke waarden sex kan hebben en hoe vaak die voorkomen.\n"
   ]
  },
  {
   "cell_type": "code",
   "execution_count": 12,
   "id": "3f88f21f",
   "metadata": {},
   "outputs": [
    {
     "data": {
      "text/plain": [
       "reason\n",
       "course        430\n",
       "home          258\n",
       "reputation    248\n",
       "other         108\n",
       "Name: count, dtype: int64"
      ]
     },
     "execution_count": 12,
     "metadata": {},
     "output_type": "execute_result"
    }
   ],
   "source": [
    "df['reason'].value_counts()"
   ]
  },
  {
   "cell_type": "markdown",
   "id": "567c78b7",
   "metadata": {},
   "source": [
    "Nu gaan we kijken naar de frequentieverdeling"
   ]
  },
  {
   "cell_type": "code",
   "execution_count": 13,
   "id": "1a80a1e1",
   "metadata": {},
   "outputs": [
    {
     "data": {
      "text/plain": [
       "<Axes: xlabel='reason', ylabel='count'>"
      ]
     },
     "execution_count": 13,
     "metadata": {},
     "output_type": "execute_result"
    },
    {
     "data": {
      "image/png": "[encoded data removed]",
      "text/plain": [
       "<Figure size 640x480 with 1 Axes>"
      ]
     },
     "metadata": {},
     "output_type": "display_data"
    }
   ],
   "source": [
    "sns.countplot(df, x = \"reason\")"
   ]
  },
  {
   "cell_type": "markdown",
   "id": "30e742ec",
   "metadata": {},
   "source": [
    "### Numerieke variabelen\n",
    "\n",
    "Je kunt gebruik maken van describe() om in één keer informatie te krijgen over alle numerieke variabelen in het dataframe."
   ]
  },
  {
   "cell_type": "code",
   "execution_count": 14,
   "id": "6f3ccf13",
   "metadata": {},
   "outputs": [
    {
     "data": {
      "text/html": [
       "<div>\n",
       "<style scoped>\n",
       "    .dataframe tbody tr th:only-of-type {\n",
       "        vertical-align: middle;\n",
       "    }\n",
       "\n",
       "    .dataframe tbody tr th {\n",
       "        vertical-align: top;\n",
       "    }\n",
       "\n",
       "    .dataframe thead th {\n",
       "        text-align: right;\n",
       "    }\n",
       "</style>\n",
       "<table border=\"1\" class=\"dataframe\">\n",
       "  <thead>\n",
       "    <tr style=\"text-align: right;\">\n",
       "      <th></th>\n",
       "      <th>age</th>\n",
       "      <th>Medu</th>\n",
       "      <th>Fedu</th>\n",
       "      <th>absences</th>\n",
       "      <th>G1</th>\n",
       "      <th>G3</th>\n",
       "    </tr>\n",
       "  </thead>\n",
       "  <tbody>\n",
       "    <tr>\n",
       "      <th>count</th>\n",
       "      <td>1044.000000</td>\n",
       "      <td>1044.000000</td>\n",
       "      <td>1044.000000</td>\n",
       "      <td>1044.000000</td>\n",
       "      <td>1044.000000</td>\n",
       "      <td>1044.000000</td>\n",
       "    </tr>\n",
       "    <tr>\n",
       "      <th>mean</th>\n",
       "      <td>16.726054</td>\n",
       "      <td>2.603448</td>\n",
       "      <td>2.387931</td>\n",
       "      <td>4.434866</td>\n",
       "      <td>11.213602</td>\n",
       "      <td>11.341954</td>\n",
       "    </tr>\n",
       "    <tr>\n",
       "      <th>std</th>\n",
       "      <td>1.239975</td>\n",
       "      <td>1.124907</td>\n",
       "      <td>1.099938</td>\n",
       "      <td>6.210017</td>\n",
       "      <td>2.983394</td>\n",
       "      <td>3.864796</td>\n",
       "    </tr>\n",
       "    <tr>\n",
       "      <th>min</th>\n",
       "      <td>15.000000</td>\n",
       "      <td>0.000000</td>\n",
       "      <td>0.000000</td>\n",
       "      <td>0.000000</td>\n",
       "      <td>0.000000</td>\n",
       "      <td>0.000000</td>\n",
       "    </tr>\n",
       "    <tr>\n",
       "      <th>25%</th>\n",
       "      <td>16.000000</td>\n",
       "      <td>2.000000</td>\n",
       "      <td>1.000000</td>\n",
       "      <td>0.000000</td>\n",
       "      <td>9.000000</td>\n",
       "      <td>10.000000</td>\n",
       "    </tr>\n",
       "    <tr>\n",
       "      <th>50%</th>\n",
       "      <td>17.000000</td>\n",
       "      <td>3.000000</td>\n",
       "      <td>2.000000</td>\n",
       "      <td>2.000000</td>\n",
       "      <td>11.000000</td>\n",
       "      <td>11.000000</td>\n",
       "    </tr>\n",
       "    <tr>\n",
       "      <th>75%</th>\n",
       "      <td>18.000000</td>\n",
       "      <td>4.000000</td>\n",
       "      <td>3.000000</td>\n",
       "      <td>6.000000</td>\n",
       "      <td>13.000000</td>\n",
       "      <td>14.000000</td>\n",
       "    </tr>\n",
       "    <tr>\n",
       "      <th>max</th>\n",
       "      <td>22.000000</td>\n",
       "      <td>4.000000</td>\n",
       "      <td>4.000000</td>\n",
       "      <td>75.000000</td>\n",
       "      <td>19.000000</td>\n",
       "      <td>20.000000</td>\n",
       "    </tr>\n",
       "  </tbody>\n",
       "</table>\n",
       "</div>"
      ],
      "text/plain": [
       "               age         Medu         Fedu     absences           G1  \\\n",
       "count  1044.000000  1044.000000  1044.000000  1044.000000  1044.000000   \n",
       "mean     16.726054     2.603448     2.387931     4.434866    11.213602   \n",
       "std       1.239975     1.124907     1.099938     6.210017     2.983394   \n",
       "min      15.000000     0.000000     0.000000     0.000000     0.000000   \n",
       "25%      16.000000     2.000000     1.000000     0.000000     9.000000   \n",
       "50%      17.000000     3.000000     2.000000     2.000000    11.000000   \n",
       "75%      18.000000     4.000000     3.000000     6.000000    13.000000   \n",
       "max      22.000000     4.000000     4.000000    75.000000    19.000000   \n",
       "\n",
       "                G3  \n",
       "count  1044.000000  \n",
       "mean     11.341954  \n",
       "std       3.864796  \n",
       "min       0.000000  \n",
       "25%      10.000000  \n",
       "50%      11.000000  \n",
       "75%      14.000000  \n",
       "max      20.000000  "
      ]
     },
     "execution_count": 14,
     "metadata": {},
     "output_type": "execute_result"
    }
   ],
   "source": [
    "df.describe()"
   ]
  },
  {
   "cell_type": "markdown",
   "id": "1b344aaa",
   "metadata": {},
   "source": [
    "We kunnen best wel het een en ander zeggen over bovenstaande tabel. Maar is het vaak fijner om te kijken naar histogrammen van de afzonderlijke variabelen. Want dan wordt duidelijker zichtbaar hoe de verdeling van de waarden is.\n",
    "\n",
    "#### age\n",
    "\n",
    "Age is de leeftijd van een student. Hieronder zie je het bijbehorende histogram."
   ]
  },
  {
   "cell_type": "code",
   "execution_count": 15,
   "id": "5a05dcd9",
   "metadata": {},
   "outputs": [
    {
     "data": {
      "text/plain": [
       "<Axes: xlabel='age', ylabel='Count'>"
      ]
     },
     "execution_count": 15,
     "metadata": {},
     "output_type": "execute_result"
    },
    {
     "data": {
      "image/png": "[encoded data removed]",
      "text/plain": [
       "<Figure size 640x480 with 1 Axes>"
      ]
     },
     "metadata": {},
     "output_type": "display_data"
    }
   ],
   "source": [
    "sns.histplot(df, x=\"age\")"
   ]
  },
  {
   "cell_type": "markdown",
   "id": "a396c62a",
   "metadata": {},
   "source": [
    "We zien hier een zogenaamde rechts-scheve verdeling (of right tail distribution). Want aan de rechterkant van de modus (en ook wel de mean) zijn meer waarden dan aan de linkerkant.\n",
    "\n",
    "Voor sommige data-analyses, en met name machine learning, kan het helpend zijn om de verdeling te transformeren met een logaritmische functie om een meer normale verdeling te krijgen."
   ]
  },
  {
   "cell_type": "code",
   "execution_count": 16,
   "id": "1257d045",
   "metadata": {},
   "outputs": [
    {
     "data": {
      "text/plain": [
       "<Axes: xlabel='age', ylabel='Count'>"
      ]
     },
     "execution_count": 16,
     "metadata": {},
     "output_type": "execute_result"
    },
    {
     "data": {
      "image/png": "[encoded data removed]",
      "text/plain": [
       "<Figure size 640x480 with 1 Axes>"
      ]
     },
     "metadata": {},
     "output_type": "display_data"
    }
   ],
   "source": [
    "df_log = df.copy()\n",
    "df_log[\"age\"] = np.log(df[\"age\"])\n",
    "sns.histplot(df_log, x=\"age\")"
   ]
  },
  {
   "cell_type": "markdown",
   "id": "9422ea85",
   "metadata": {},
   "source": [
    "Met de log transformatie, krijg je alsnog niet een normaalverdeling.\n",
    "\n",
    "Als je terugkijkt naar het oorspronkelijke histogram van de age, dan valt nog iets anders op. Er lijken namelijk best wat uitbijters (outliers) te zijn. Laten we die eens wat nader bekijken. We doen dat door naar de top 20 hoogste leeftijden te kijken.\n"
   ]
  },
  {
   "cell_type": "code",
   "execution_count": 17,
   "id": "e0c2537f",
   "metadata": {
    "scrolled": true
   },
   "outputs": [
    {
     "data": {
      "text/html": [
       "<div>\n",
       "<style scoped>\n",
       "    .dataframe tbody tr th:only-of-type {\n",
       "        vertical-align: middle;\n",
       "    }\n",
       "\n",
       "    .dataframe tbody tr th {\n",
       "        vertical-align: top;\n",
       "    }\n",
       "\n",
       "    .dataframe thead th {\n",
       "        text-align: right;\n",
       "    }\n",
       "</style>\n",
       "<table border=\"1\" class=\"dataframe\">\n",
       "  <thead>\n",
       "    <tr style=\"text-align: right;\">\n",
       "      <th></th>\n",
       "      <th>age</th>\n",
       "      <th>sex</th>\n",
       "      <th>Medu</th>\n",
       "      <th>Fedu</th>\n",
       "      <th>reason</th>\n",
       "      <th>absences</th>\n",
       "      <th>G1</th>\n",
       "      <th>G3</th>\n",
       "    </tr>\n",
       "  </thead>\n",
       "  <tbody>\n",
       "    <tr>\n",
       "      <th>247</th>\n",
       "      <td>22</td>\n",
       "      <td>M</td>\n",
       "      <td>3</td>\n",
       "      <td>1</td>\n",
       "      <td>other</td>\n",
       "      <td>16</td>\n",
       "      <td>6</td>\n",
       "      <td>8</td>\n",
       "    </tr>\n",
       "    <tr>\n",
       "      <th>674</th>\n",
       "      <td>22</td>\n",
       "      <td>M</td>\n",
       "      <td>3</td>\n",
       "      <td>1</td>\n",
       "      <td>other</td>\n",
       "      <td>12</td>\n",
       "      <td>7</td>\n",
       "      <td>5</td>\n",
       "    </tr>\n",
       "    <tr>\n",
       "      <th>392</th>\n",
       "      <td>21</td>\n",
       "      <td>M</td>\n",
       "      <td>1</td>\n",
       "      <td>1</td>\n",
       "      <td>course</td>\n",
       "      <td>3</td>\n",
       "      <td>10</td>\n",
       "      <td>7</td>\n",
       "    </tr>\n",
       "    <tr>\n",
       "      <th>802</th>\n",
       "      <td>21</td>\n",
       "      <td>F</td>\n",
       "      <td>4</td>\n",
       "      <td>4</td>\n",
       "      <td>reputation</td>\n",
       "      <td>0</td>\n",
       "      <td>9</td>\n",
       "      <td>12</td>\n",
       "    </tr>\n",
       "    <tr>\n",
       "      <th>808</th>\n",
       "      <td>21</td>\n",
       "      <td>M</td>\n",
       "      <td>1</td>\n",
       "      <td>1</td>\n",
       "      <td>course</td>\n",
       "      <td>21</td>\n",
       "      <td>9</td>\n",
       "      <td>10</td>\n",
       "    </tr>\n",
       "    <tr>\n",
       "      <th>306</th>\n",
       "      <td>20</td>\n",
       "      <td>M</td>\n",
       "      <td>3</td>\n",
       "      <td>2</td>\n",
       "      <td>course</td>\n",
       "      <td>0</td>\n",
       "      <td>17</td>\n",
       "      <td>18</td>\n",
       "    </tr>\n",
       "    <tr>\n",
       "      <th>376</th>\n",
       "      <td>20</td>\n",
       "      <td>F</td>\n",
       "      <td>4</td>\n",
       "      <td>2</td>\n",
       "      <td>course</td>\n",
       "      <td>4</td>\n",
       "      <td>15</td>\n",
       "      <td>15</td>\n",
       "    </tr>\n",
       "    <tr>\n",
       "      <th>390</th>\n",
       "      <td>20</td>\n",
       "      <td>M</td>\n",
       "      <td>2</td>\n",
       "      <td>2</td>\n",
       "      <td>course</td>\n",
       "      <td>11</td>\n",
       "      <td>9</td>\n",
       "      <td>9</td>\n",
       "    </tr>\n",
       "    <tr>\n",
       "      <th>694</th>\n",
       "      <td>20</td>\n",
       "      <td>F</td>\n",
       "      <td>2</td>\n",
       "      <td>1</td>\n",
       "      <td>course</td>\n",
       "      <td>8</td>\n",
       "      <td>10</td>\n",
       "      <td>12</td>\n",
       "    </tr>\n",
       "    <tr>\n",
       "      <th>746</th>\n",
       "      <td>20</td>\n",
       "      <td>M</td>\n",
       "      <td>3</td>\n",
       "      <td>2</td>\n",
       "      <td>course</td>\n",
       "      <td>0</td>\n",
       "      <td>14</td>\n",
       "      <td>15</td>\n",
       "    </tr>\n",
       "    <tr>\n",
       "      <th>809</th>\n",
       "      <td>20</td>\n",
       "      <td>F</td>\n",
       "      <td>1</td>\n",
       "      <td>1</td>\n",
       "      <td>reputation</td>\n",
       "      <td>8</td>\n",
       "      <td>11</td>\n",
       "      <td>15</td>\n",
       "    </tr>\n",
       "    <tr>\n",
       "      <th>816</th>\n",
       "      <td>20</td>\n",
       "      <td>F</td>\n",
       "      <td>1</td>\n",
       "      <td>0</td>\n",
       "      <td>reputation</td>\n",
       "      <td>5</td>\n",
       "      <td>8</td>\n",
       "      <td>10</td>\n",
       "    </tr>\n",
       "    <tr>\n",
       "      <th>901</th>\n",
       "      <td>20</td>\n",
       "      <td>F</td>\n",
       "      <td>3</td>\n",
       "      <td>3</td>\n",
       "      <td>other</td>\n",
       "      <td>8</td>\n",
       "      <td>11</td>\n",
       "      <td>10</td>\n",
       "    </tr>\n",
       "    <tr>\n",
       "      <th>969</th>\n",
       "      <td>20</td>\n",
       "      <td>M</td>\n",
       "      <td>1</td>\n",
       "      <td>1</td>\n",
       "      <td>course</td>\n",
       "      <td>12</td>\n",
       "      <td>8</td>\n",
       "      <td>10</td>\n",
       "    </tr>\n",
       "    <tr>\n",
       "      <th>127</th>\n",
       "      <td>19</td>\n",
       "      <td>F</td>\n",
       "      <td>0</td>\n",
       "      <td>1</td>\n",
       "      <td>course</td>\n",
       "      <td>2</td>\n",
       "      <td>7</td>\n",
       "      <td>9</td>\n",
       "    </tr>\n",
       "    <tr>\n",
       "      <th>153</th>\n",
       "      <td>19</td>\n",
       "      <td>M</td>\n",
       "      <td>3</td>\n",
       "      <td>2</td>\n",
       "      <td>home</td>\n",
       "      <td>0</td>\n",
       "      <td>5</td>\n",
       "      <td>0</td>\n",
       "    </tr>\n",
       "    <tr>\n",
       "      <th>210</th>\n",
       "      <td>19</td>\n",
       "      <td>F</td>\n",
       "      <td>3</td>\n",
       "      <td>3</td>\n",
       "      <td>reputation</td>\n",
       "      <td>10</td>\n",
       "      <td>8</td>\n",
       "      <td>8</td>\n",
       "    </tr>\n",
       "    <tr>\n",
       "      <th>257</th>\n",
       "      <td>19</td>\n",
       "      <td>M</td>\n",
       "      <td>4</td>\n",
       "      <td>3</td>\n",
       "      <td>reputation</td>\n",
       "      <td>12</td>\n",
       "      <td>11</td>\n",
       "      <td>11</td>\n",
       "    </tr>\n",
       "    <tr>\n",
       "      <th>270</th>\n",
       "      <td>19</td>\n",
       "      <td>F</td>\n",
       "      <td>3</td>\n",
       "      <td>3</td>\n",
       "      <td>home</td>\n",
       "      <td>15</td>\n",
       "      <td>9</td>\n",
       "      <td>9</td>\n",
       "    </tr>\n",
       "    <tr>\n",
       "      <th>296</th>\n",
       "      <td>19</td>\n",
       "      <td>F</td>\n",
       "      <td>4</td>\n",
       "      <td>4</td>\n",
       "      <td>reputation</td>\n",
       "      <td>0</td>\n",
       "      <td>10</td>\n",
       "      <td>0</td>\n",
       "    </tr>\n",
       "  </tbody>\n",
       "</table>\n",
       "</div>"
      ],
      "text/plain": [
       "     age sex  Medu  Fedu      reason  absences  G1  G3\n",
       "247   22   M     3     1       other        16   6   8\n",
       "674   22   M     3     1       other        12   7   5\n",
       "392   21   M     1     1      course         3  10   7\n",
       "802   21   F     4     4  reputation         0   9  12\n",
       "808   21   M     1     1      course        21   9  10\n",
       "306   20   M     3     2      course         0  17  18\n",
       "376   20   F     4     2      course         4  15  15\n",
       "390   20   M     2     2      course        11   9   9\n",
       "694   20   F     2     1      course         8  10  12\n",
       "746   20   M     3     2      course         0  14  15\n",
       "809   20   F     1     1  reputation         8  11  15\n",
       "816   20   F     1     0  reputation         5   8  10\n",
       "901   20   F     3     3       other         8  11  10\n",
       "969   20   M     1     1      course        12   8  10\n",
       "127   19   F     0     1      course         2   7   9\n",
       "153   19   M     3     2        home         0   5   0\n",
       "210   19   F     3     3  reputation        10   8   8\n",
       "257   19   M     4     3  reputation        12  11  11\n",
       "270   19   F     3     3        home        15   9   9\n",
       "296   19   F     4     4  reputation         0  10   0"
      ]
     },
     "execution_count": 17,
     "metadata": {},
     "output_type": "execute_result"
    }
   ],
   "source": [
    "df.nlargest(20, columns=\"age\")"
   ]
  },
  {
   "cell_type": "markdown",
   "id": "35511361",
   "metadata": {},
   "source": [
    "Wat hier opvalt: als het gaat over leeftijden boven de 20 dan is er maar weinig data om mee te werken. Dus als je deze data bijvoorbeeld zou willen gebruiken om met machine learning de student performance probeert te voorspellen, dan presteert dat model mogelijk niet zo goed voor oudere studenten. We gaan nu kijken naar de boxplot van de leeftijd.\n",
    "\n"
   ]
  },
  {
   "cell_type": "code",
   "execution_count": 18,
   "id": "f774c58a",
   "metadata": {},
   "outputs": [
    {
     "data": {
      "text/plain": [
       "<Axes: xlabel='age'>"
      ]
     },
     "execution_count": 18,
     "metadata": {},
     "output_type": "execute_result"
    },
    {
     "data": {
      "image/png": "[encoded data removed]",
      "text/plain": [
       "<Figure size 640x480 with 1 Axes>"
      ]
     },
     "metadata": {},
     "output_type": "display_data"
    }
   ],
   "source": [
    "sns.boxplot(df, x='age')"
   ]
  },
  {
   "cell_type": "markdown",
   "id": "6acc6fbd",
   "metadata": {},
   "source": [
    "Hier zie je wederom dat 22 een outlier is."
   ]
  },
  {
   "cell_type": "markdown",
   "id": "08ad2724",
   "metadata": {},
   "source": [
    "#### absences\n",
    "\n",
    "absences is het aantal keren dat een student afwezig was"
   ]
  },
  {
   "cell_type": "code",
   "execution_count": 19,
   "id": "9f91f8cd",
   "metadata": {},
   "outputs": [
    {
     "data": {
      "text/plain": [
       "<Axes: xlabel='absences', ylabel='Count'>"
      ]
     },
     "execution_count": 19,
     "metadata": {},
     "output_type": "execute_result"
    },
    {
     "data": {
      "image/png": "[encoded data removed]",
      "text/plain": [
       "<Figure size 640x480 with 1 Axes>"
      ]
     },
     "metadata": {},
     "output_type": "display_data"
    }
   ],
   "source": [
    "sns.histplot(df, x=\"absences\")"
   ]
  },
  {
   "cell_type": "markdown",
   "id": "04774b56",
   "metadata": {},
   "source": [
    "Ook hier weer een rechts-scheve verdeling en een aantal forse outliers. Laten we eerst naar de outliers kijken."
   ]
  },
  {
   "cell_type": "code",
   "execution_count": 20,
   "id": "7feeb936",
   "metadata": {},
   "outputs": [
    {
     "data": {
      "text/html": [
       "<div>\n",
       "<style scoped>\n",
       "    .dataframe tbody tr th:only-of-type {\n",
       "        vertical-align: middle;\n",
       "    }\n",
       "\n",
       "    .dataframe tbody tr th {\n",
       "        vertical-align: top;\n",
       "    }\n",
       "\n",
       "    .dataframe thead th {\n",
       "        text-align: right;\n",
       "    }\n",
       "</style>\n",
       "<table border=\"1\" class=\"dataframe\">\n",
       "  <thead>\n",
       "    <tr style=\"text-align: right;\">\n",
       "      <th></th>\n",
       "      <th>age</th>\n",
       "      <th>sex</th>\n",
       "      <th>Medu</th>\n",
       "      <th>Fedu</th>\n",
       "      <th>reason</th>\n",
       "      <th>absences</th>\n",
       "      <th>G1</th>\n",
       "      <th>G3</th>\n",
       "    </tr>\n",
       "  </thead>\n",
       "  <tbody>\n",
       "    <tr>\n",
       "      <th>276</th>\n",
       "      <td>18</td>\n",
       "      <td>F</td>\n",
       "      <td>3</td>\n",
       "      <td>2</td>\n",
       "      <td>home</td>\n",
       "      <td>75</td>\n",
       "      <td>10</td>\n",
       "      <td>9</td>\n",
       "    </tr>\n",
       "    <tr>\n",
       "      <th>183</th>\n",
       "      <td>17</td>\n",
       "      <td>F</td>\n",
       "      <td>3</td>\n",
       "      <td>3</td>\n",
       "      <td>reputation</td>\n",
       "      <td>56</td>\n",
       "      <td>9</td>\n",
       "      <td>8</td>\n",
       "    </tr>\n",
       "    <tr>\n",
       "      <th>74</th>\n",
       "      <td>16</td>\n",
       "      <td>F</td>\n",
       "      <td>3</td>\n",
       "      <td>3</td>\n",
       "      <td>home</td>\n",
       "      <td>54</td>\n",
       "      <td>11</td>\n",
       "      <td>11</td>\n",
       "    </tr>\n",
       "    <tr>\n",
       "      <th>315</th>\n",
       "      <td>19</td>\n",
       "      <td>F</td>\n",
       "      <td>2</td>\n",
       "      <td>3</td>\n",
       "      <td>reputation</td>\n",
       "      <td>40</td>\n",
       "      <td>13</td>\n",
       "      <td>11</td>\n",
       "    </tr>\n",
       "    <tr>\n",
       "      <th>307</th>\n",
       "      <td>19</td>\n",
       "      <td>M</td>\n",
       "      <td>4</td>\n",
       "      <td>4</td>\n",
       "      <td>reputation</td>\n",
       "      <td>38</td>\n",
       "      <td>8</td>\n",
       "      <td>8</td>\n",
       "    </tr>\n",
       "    <tr>\n",
       "      <th>592</th>\n",
       "      <td>17</td>\n",
       "      <td>F</td>\n",
       "      <td>3</td>\n",
       "      <td>3</td>\n",
       "      <td>reputation</td>\n",
       "      <td>32</td>\n",
       "      <td>14</td>\n",
       "      <td>14</td>\n",
       "    </tr>\n",
       "    <tr>\n",
       "      <th>280</th>\n",
       "      <td>17</td>\n",
       "      <td>M</td>\n",
       "      <td>4</td>\n",
       "      <td>1</td>\n",
       "      <td>home</td>\n",
       "      <td>30</td>\n",
       "      <td>8</td>\n",
       "      <td>8</td>\n",
       "    </tr>\n",
       "    <tr>\n",
       "      <th>607</th>\n",
       "      <td>17</td>\n",
       "      <td>F</td>\n",
       "      <td>4</td>\n",
       "      <td>4</td>\n",
       "      <td>home</td>\n",
       "      <td>30</td>\n",
       "      <td>14</td>\n",
       "      <td>16</td>\n",
       "    </tr>\n",
       "    <tr>\n",
       "      <th>205</th>\n",
       "      <td>17</td>\n",
       "      <td>F</td>\n",
       "      <td>3</td>\n",
       "      <td>4</td>\n",
       "      <td>home</td>\n",
       "      <td>28</td>\n",
       "      <td>10</td>\n",
       "      <td>9</td>\n",
       "    </tr>\n",
       "    <tr>\n",
       "      <th>103</th>\n",
       "      <td>15</td>\n",
       "      <td>F</td>\n",
       "      <td>3</td>\n",
       "      <td>2</td>\n",
       "      <td>home</td>\n",
       "      <td>26</td>\n",
       "      <td>7</td>\n",
       "      <td>6</td>\n",
       "    </tr>\n",
       "  </tbody>\n",
       "</table>\n",
       "</div>"
      ],
      "text/plain": [
       "     age sex  Medu  Fedu      reason  absences  G1  G3\n",
       "276   18   F     3     2        home        75  10   9\n",
       "183   17   F     3     3  reputation        56   9   8\n",
       "74    16   F     3     3        home        54  11  11\n",
       "315   19   F     2     3  reputation        40  13  11\n",
       "307   19   M     4     4  reputation        38   8   8\n",
       "592   17   F     3     3  reputation        32  14  14\n",
       "280   17   M     4     1        home        30   8   8\n",
       "607   17   F     4     4        home        30  14  16\n",
       "205   17   F     3     4        home        28  10   9\n",
       "103   15   F     3     2        home        26   7   6"
      ]
     },
     "execution_count": 20,
     "metadata": {},
     "output_type": "execute_result"
    }
   ],
   "source": [
    "df.nlargest(10, columns=\"absences\")"
   ]
  },
  {
   "cell_type": "markdown",
   "id": "b6e1df96",
   "metadata": {},
   "source": [
    "Je ziet dat er veel outliers zijn."
   ]
  },
  {
   "cell_type": "code",
   "execution_count": 21,
   "id": "05fc9ee3",
   "metadata": {},
   "outputs": [
    {
     "name": "stderr",
     "output_type": "stream",
     "text": [
      "C:\\Users\\corss\\anaconda3\\Lib\\site-packages\\pandas\\core\\arraylike.py:396: RuntimeWarning: divide by zero encountered in log\n",
      "  result = getattr(ufunc, method)(*inputs, **kwargs)\n"
     ]
    },
    {
     "data": {
      "text/plain": [
       "<Axes: xlabel='absences', ylabel='Count'>"
      ]
     },
     "execution_count": 21,
     "metadata": {},
     "output_type": "execute_result"
    },
    {
     "data": {
      "image/png": "[encoded data removed]",
      "text/plain": [
       "<Figure size 640x480 with 1 Axes>"
      ]
     },
     "metadata": {},
     "output_type": "display_data"
    }
   ],
   "source": [
    "df_log[\"absences\"] = np.log(df[\"absences\"])\n",
    "sns.histplot(df_log, x=\"absences\")"
   ]
  },
  {
   "cell_type": "markdown",
   "id": "de9cdf69",
   "metadata": {},
   "source": [
    "Dit is al iets meer een normaal verdeling. Hieronder zie je een boxplot van absences.\n"
   ]
  },
  {
   "cell_type": "code",
   "execution_count": 22,
   "id": "ba276478",
   "metadata": {},
   "outputs": [
    {
     "data": {
      "text/plain": [
       "<Axes: xlabel='absences'>"
      ]
     },
     "execution_count": 22,
     "metadata": {},
     "output_type": "execute_result"
    },
    {
     "data": {
      "image/png": "[encoded data removed]",
      "text/plain": [
       "<Figure size 640x480 with 1 Axes>"
      ]
     },
     "metadata": {},
     "output_type": "display_data"
    }
   ],
   "source": [
    "sns.boxplot(df, x='absences')"
   ]
  },
  {
   "cell_type": "markdown",
   "id": "8bce73a3",
   "metadata": {},
   "source": [
    "Hier heb je veel outliers omdat veel studenden 0 absences heeft."
   ]
  },
  {
   "cell_type": "markdown",
   "id": "a7e59e7f",
   "metadata": {},
   "source": [
    "\n",
    "### G1\n",
    "\n",
    "G1 is het cijfer van de eerste periode (numeric: from 0 to 20). De variabele is als volgt verdeeld."
   ]
  },
  {
   "cell_type": "code",
   "execution_count": 23,
   "id": "02857849",
   "metadata": {},
   "outputs": [
    {
     "data": {
      "text/plain": [
       "<Axes: xlabel='G1', ylabel='Count'>"
      ]
     },
     "execution_count": 23,
     "metadata": {},
     "output_type": "execute_result"
    },
    {
     "data": {
      "image/png": "[encoded data removed]",
      "text/plain": [
       "<Figure size 640x480 with 1 Axes>"
      ]
     },
     "metadata": {},
     "output_type": "display_data"
    }
   ],
   "source": [
    "sns.histplot(df, x=\"G1\")"
   ]
  },
  {
   "cell_type": "markdown",
   "id": "39750600",
   "metadata": {},
   "source": [
    "Deze is dan weer links scheef. We gaan daarom kijken wat de kleinste waardes zijn"
   ]
  },
  {
   "cell_type": "code",
   "execution_count": 24,
   "id": "1e94599f",
   "metadata": {},
   "outputs": [
    {
     "data": {
      "text/html": [
       "<div>\n",
       "<style scoped>\n",
       "    .dataframe tbody tr th:only-of-type {\n",
       "        vertical-align: middle;\n",
       "    }\n",
       "\n",
       "    .dataframe tbody tr th {\n",
       "        vertical-align: top;\n",
       "    }\n",
       "\n",
       "    .dataframe thead th {\n",
       "        text-align: right;\n",
       "    }\n",
       "</style>\n",
       "<table border=\"1\" class=\"dataframe\">\n",
       "  <thead>\n",
       "    <tr style=\"text-align: right;\">\n",
       "      <th></th>\n",
       "      <th>age</th>\n",
       "      <th>sex</th>\n",
       "      <th>Medu</th>\n",
       "      <th>Fedu</th>\n",
       "      <th>reason</th>\n",
       "      <th>absences</th>\n",
       "      <th>G1</th>\n",
       "      <th>G3</th>\n",
       "    </tr>\n",
       "  </thead>\n",
       "  <tbody>\n",
       "    <tr>\n",
       "      <th>395</th>\n",
       "      <td>18</td>\n",
       "      <td>F</td>\n",
       "      <td>4</td>\n",
       "      <td>4</td>\n",
       "      <td>course</td>\n",
       "      <td>4</td>\n",
       "      <td>0</td>\n",
       "      <td>11</td>\n",
       "    </tr>\n",
       "    <tr>\n",
       "      <th>248</th>\n",
       "      <td>18</td>\n",
       "      <td>M</td>\n",
       "      <td>3</td>\n",
       "      <td>3</td>\n",
       "      <td>course</td>\n",
       "      <td>8</td>\n",
       "      <td>3</td>\n",
       "      <td>5</td>\n",
       "    </tr>\n",
       "    <tr>\n",
       "      <th>137</th>\n",
       "      <td>16</td>\n",
       "      <td>F</td>\n",
       "      <td>3</td>\n",
       "      <td>3</td>\n",
       "      <td>course</td>\n",
       "      <td>0</td>\n",
       "      <td>4</td>\n",
       "      <td>0</td>\n",
       "    </tr>\n",
       "    <tr>\n",
       "      <th>962</th>\n",
       "      <td>18</td>\n",
       "      <td>M</td>\n",
       "      <td>3</td>\n",
       "      <td>2</td>\n",
       "      <td>course</td>\n",
       "      <td>0</td>\n",
       "      <td>4</td>\n",
       "      <td>0</td>\n",
       "    </tr>\n",
       "    <tr>\n",
       "      <th>964</th>\n",
       "      <td>18</td>\n",
       "      <td>M</td>\n",
       "      <td>3</td>\n",
       "      <td>3</td>\n",
       "      <td>course</td>\n",
       "      <td>9</td>\n",
       "      <td>4</td>\n",
       "      <td>8</td>\n",
       "    </tr>\n",
       "    <tr>\n",
       "      <th>0</th>\n",
       "      <td>18</td>\n",
       "      <td>F</td>\n",
       "      <td>4</td>\n",
       "      <td>4</td>\n",
       "      <td>course</td>\n",
       "      <td>6</td>\n",
       "      <td>5</td>\n",
       "      <td>6</td>\n",
       "    </tr>\n",
       "    <tr>\n",
       "      <th>1</th>\n",
       "      <td>17</td>\n",
       "      <td>F</td>\n",
       "      <td>1</td>\n",
       "      <td>1</td>\n",
       "      <td>course</td>\n",
       "      <td>4</td>\n",
       "      <td>5</td>\n",
       "      <td>6</td>\n",
       "    </tr>\n",
       "    <tr>\n",
       "      <th>79</th>\n",
       "      <td>16</td>\n",
       "      <td>F</td>\n",
       "      <td>3</td>\n",
       "      <td>4</td>\n",
       "      <td>course</td>\n",
       "      <td>12</td>\n",
       "      <td>5</td>\n",
       "      <td>5</td>\n",
       "    </tr>\n",
       "    <tr>\n",
       "      <th>144</th>\n",
       "      <td>17</td>\n",
       "      <td>M</td>\n",
       "      <td>2</td>\n",
       "      <td>1</td>\n",
       "      <td>home</td>\n",
       "      <td>0</td>\n",
       "      <td>5</td>\n",
       "      <td>0</td>\n",
       "    </tr>\n",
       "    <tr>\n",
       "      <th>153</th>\n",
       "      <td>19</td>\n",
       "      <td>M</td>\n",
       "      <td>3</td>\n",
       "      <td>2</td>\n",
       "      <td>home</td>\n",
       "      <td>0</td>\n",
       "      <td>5</td>\n",
       "      <td>0</td>\n",
       "    </tr>\n",
       "  </tbody>\n",
       "</table>\n",
       "</div>"
      ],
      "text/plain": [
       "     age sex  Medu  Fedu  reason  absences  G1  G3\n",
       "395   18   F     4     4  course         4   0  11\n",
       "248   18   M     3     3  course         8   3   5\n",
       "137   16   F     3     3  course         0   4   0\n",
       "962   18   M     3     2  course         0   4   0\n",
       "964   18   M     3     3  course         9   4   8\n",
       "0     18   F     4     4  course         6   5   6\n",
       "1     17   F     1     1  course         4   5   6\n",
       "79    16   F     3     4  course        12   5   5\n",
       "144   17   M     2     1    home         0   5   0\n",
       "153   19   M     3     2    home         0   5   0"
      ]
     },
     "execution_count": 24,
     "metadata": {},
     "output_type": "execute_result"
    }
   ],
   "source": [
    "df.nsmallest(10, columns=\"G1\")"
   ]
  },
  {
   "cell_type": "markdown",
   "id": "c4e6dcba",
   "metadata": {},
   "source": [
    "Je ziet dat er maar 1 record G1 0 heeft. Dit wil zeggen dat dit de outlier is. Even kijken of we een normaalverdeling kunnen generen. "
   ]
  },
  {
   "cell_type": "code",
   "execution_count": 25,
   "id": "50817767",
   "metadata": {},
   "outputs": [
    {
     "name": "stderr",
     "output_type": "stream",
     "text": [
      "C:\\Users\\corss\\anaconda3\\Lib\\site-packages\\pandas\\core\\arraylike.py:396: RuntimeWarning: divide by zero encountered in log\n",
      "  result = getattr(ufunc, method)(*inputs, **kwargs)\n"
     ]
    },
    {
     "data": {
      "text/plain": [
       "<Axes: xlabel='G1', ylabel='Count'>"
      ]
     },
     "execution_count": 25,
     "metadata": {},
     "output_type": "execute_result"
    },
    {
     "data": {
      "image/png": "[encoded data removed]",
      "text/plain": [
       "<Figure size 640x480 with 1 Axes>"
      ]
     },
     "metadata": {},
     "output_type": "display_data"
    }
   ],
   "source": [
    "df_log[\"G1\"] = np.log(df[\"G1\"])\n",
    "sns.histplot(df_log, x=\"G1\")"
   ]
  },
  {
   "cell_type": "markdown",
   "id": "bb43a7aa",
   "metadata": {},
   "source": [
    "Nee, helaas werkt de log functie niet voor de kolom G1. Nu gaan we kijken naar de boxplot van G1.\n"
   ]
  },
  {
   "cell_type": "code",
   "execution_count": 26,
   "id": "2b1cbe00",
   "metadata": {},
   "outputs": [
    {
     "data": {
      "text/plain": [
       "<Axes: xlabel='G1'>"
      ]
     },
     "execution_count": 26,
     "metadata": {},
     "output_type": "execute_result"
    },
    {
     "data": {
      "image/png": "[encoded data removed]",
      "text/plain": [
       "<Figure size 640x480 with 1 Axes>"
      ]
     },
     "metadata": {},
     "output_type": "display_data"
    }
   ],
   "source": [
    "sns.boxplot(df, x='G1')"
   ]
  },
  {
   "cell_type": "markdown",
   "id": "a6701795",
   "metadata": {},
   "source": [
    "G1 heeft 0.0 als outlier"
   ]
  },
  {
   "cell_type": "markdown",
   "id": "e40f25a9",
   "metadata": {},
   "source": [
    "### G3\n",
    "\n",
    "G3 is het eindcijfer (numeric: from 0 to 20). De variabele is als volgt verdeeld. Laten we eerst naar de outliers kijken."
   ]
  },
  {
   "cell_type": "code",
   "execution_count": 27,
   "id": "1b24b59e",
   "metadata": {},
   "outputs": [
    {
     "data": {
      "text/plain": [
       "<Axes: xlabel='G3', ylabel='Count'>"
      ]
     },
     "execution_count": 27,
     "metadata": {},
     "output_type": "execute_result"
    },
    {
     "data": {
      "image/png": "[encoded data removed]",
      "text/plain": [
       "<Figure size 640x480 with 1 Axes>"
      ]
     },
     "metadata": {},
     "output_type": "display_data"
    }
   ],
   "source": [
    "sns.histplot(df, x=\"G3\")"
   ]
  },
  {
   "cell_type": "markdown",
   "id": "0b378898",
   "metadata": {},
   "source": [
    "Ook hier weer een links-scheve verdeling en een aantal forse outliers. Laten we eerst naar de outliers kijken."
   ]
  },
  {
   "cell_type": "code",
   "execution_count": 28,
   "id": "09d44f88",
   "metadata": {},
   "outputs": [
    {
     "data": {
      "text/html": [
       "<div>\n",
       "<style scoped>\n",
       "    .dataframe tbody tr th:only-of-type {\n",
       "        vertical-align: middle;\n",
       "    }\n",
       "\n",
       "    .dataframe tbody tr th {\n",
       "        vertical-align: top;\n",
       "    }\n",
       "\n",
       "    .dataframe thead th {\n",
       "        text-align: right;\n",
       "    }\n",
       "</style>\n",
       "<table border=\"1\" class=\"dataframe\">\n",
       "  <thead>\n",
       "    <tr style=\"text-align: right;\">\n",
       "      <th></th>\n",
       "      <th>age</th>\n",
       "      <th>sex</th>\n",
       "      <th>Medu</th>\n",
       "      <th>Fedu</th>\n",
       "      <th>reason</th>\n",
       "      <th>absences</th>\n",
       "      <th>G1</th>\n",
       "      <th>G3</th>\n",
       "    </tr>\n",
       "  </thead>\n",
       "  <tbody>\n",
       "    <tr>\n",
       "      <th>128</th>\n",
       "      <td>18</td>\n",
       "      <td>M</td>\n",
       "      <td>2</td>\n",
       "      <td>2</td>\n",
       "      <td>reputation</td>\n",
       "      <td>0</td>\n",
       "      <td>7</td>\n",
       "      <td>0</td>\n",
       "    </tr>\n",
       "    <tr>\n",
       "      <th>130</th>\n",
       "      <td>15</td>\n",
       "      <td>F</td>\n",
       "      <td>3</td>\n",
       "      <td>4</td>\n",
       "      <td>course</td>\n",
       "      <td>0</td>\n",
       "      <td>12</td>\n",
       "      <td>0</td>\n",
       "    </tr>\n",
       "    <tr>\n",
       "      <th>131</th>\n",
       "      <td>15</td>\n",
       "      <td>F</td>\n",
       "      <td>1</td>\n",
       "      <td>1</td>\n",
       "      <td>course</td>\n",
       "      <td>0</td>\n",
       "      <td>8</td>\n",
       "      <td>0</td>\n",
       "    </tr>\n",
       "    <tr>\n",
       "      <th>134</th>\n",
       "      <td>15</td>\n",
       "      <td>M</td>\n",
       "      <td>3</td>\n",
       "      <td>4</td>\n",
       "      <td>course</td>\n",
       "      <td>0</td>\n",
       "      <td>9</td>\n",
       "      <td>0</td>\n",
       "    </tr>\n",
       "    <tr>\n",
       "      <th>135</th>\n",
       "      <td>15</td>\n",
       "      <td>F</td>\n",
       "      <td>4</td>\n",
       "      <td>4</td>\n",
       "      <td>course</td>\n",
       "      <td>0</td>\n",
       "      <td>11</td>\n",
       "      <td>0</td>\n",
       "    </tr>\n",
       "    <tr>\n",
       "      <th>...</th>\n",
       "      <td>...</td>\n",
       "      <td>...</td>\n",
       "      <td>...</td>\n",
       "      <td>...</td>\n",
       "      <td>...</td>\n",
       "      <td>...</td>\n",
       "      <td>...</td>\n",
       "      <td>...</td>\n",
       "    </tr>\n",
       "    <tr>\n",
       "      <th>7</th>\n",
       "      <td>17</td>\n",
       "      <td>F</td>\n",
       "      <td>4</td>\n",
       "      <td>4</td>\n",
       "      <td>home</td>\n",
       "      <td>6</td>\n",
       "      <td>6</td>\n",
       "      <td>6</td>\n",
       "    </tr>\n",
       "    <tr>\n",
       "      <th>35</th>\n",
       "      <td>15</td>\n",
       "      <td>F</td>\n",
       "      <td>2</td>\n",
       "      <td>3</td>\n",
       "      <td>other</td>\n",
       "      <td>0</td>\n",
       "      <td>8</td>\n",
       "      <td>6</td>\n",
       "    </tr>\n",
       "    <tr>\n",
       "      <th>45</th>\n",
       "      <td>15</td>\n",
       "      <td>F</td>\n",
       "      <td>4</td>\n",
       "      <td>3</td>\n",
       "      <td>course</td>\n",
       "      <td>8</td>\n",
       "      <td>8</td>\n",
       "      <td>6</td>\n",
       "    </tr>\n",
       "    <tr>\n",
       "      <th>67</th>\n",
       "      <td>16</td>\n",
       "      <td>F</td>\n",
       "      <td>3</td>\n",
       "      <td>1</td>\n",
       "      <td>course</td>\n",
       "      <td>4</td>\n",
       "      <td>7</td>\n",
       "      <td>6</td>\n",
       "    </tr>\n",
       "    <tr>\n",
       "      <th>82</th>\n",
       "      <td>15</td>\n",
       "      <td>F</td>\n",
       "      <td>3</td>\n",
       "      <td>2</td>\n",
       "      <td>reputation</td>\n",
       "      <td>10</td>\n",
       "      <td>7</td>\n",
       "      <td>6</td>\n",
       "    </tr>\n",
       "  </tbody>\n",
       "</table>\n",
       "<p>70 rows × 8 columns</p>\n",
       "</div>"
      ],
      "text/plain": [
       "     age sex  Medu  Fedu      reason  absences  G1  G3\n",
       "128   18   M     2     2  reputation         0   7   0\n",
       "130   15   F     3     4      course         0  12   0\n",
       "131   15   F     1     1      course         0   8   0\n",
       "134   15   M     3     4      course         0   9   0\n",
       "135   15   F     4     4      course         0  11   0\n",
       "..   ...  ..   ...   ...         ...       ...  ..  ..\n",
       "7     17   F     4     4        home         6   6   6\n",
       "35    15   F     2     3       other         0   8   6\n",
       "45    15   F     4     3      course         8   8   6\n",
       "67    16   F     3     1      course         4   7   6\n",
       "82    15   F     3     2  reputation        10   7   6\n",
       "\n",
       "[70 rows x 8 columns]"
      ]
     },
     "execution_count": 28,
     "metadata": {},
     "output_type": "execute_result"
    }
   ],
   "source": [
    "df.nsmallest(70, columns=\"G3\")"
   ]
  },
  {
   "cell_type": "markdown",
   "id": "09d66091",
   "metadata": {},
   "source": [
    "je ziet dat het cijfer 0 heel vaak behaald is als eindcijfer. Dit verklaart de links scheve verdeling. Even kijken of we een normaalverdeling kunnen generen. "
   ]
  },
  {
   "cell_type": "code",
   "execution_count": 29,
   "id": "d5aa85f1",
   "metadata": {},
   "outputs": [
    {
     "name": "stderr",
     "output_type": "stream",
     "text": [
      "C:\\Users\\corss\\anaconda3\\Lib\\site-packages\\pandas\\core\\arraylike.py:396: RuntimeWarning: divide by zero encountered in log\n",
      "  result = getattr(ufunc, method)(*inputs, **kwargs)\n"
     ]
    },
    {
     "data": {
      "text/plain": [
       "<Axes: xlabel='G3', ylabel='Count'>"
      ]
     },
     "execution_count": 29,
     "metadata": {},
     "output_type": "execute_result"
    },
    {
     "data": {
      "image/png": "[encoded data removed]",
      "text/plain": [
       "<Figure size 640x480 with 1 Axes>"
      ]
     },
     "metadata": {},
     "output_type": "display_data"
    }
   ],
   "source": [
    "df_log[\"G3\"] = np.log(df[\"G3\"])\n",
    "sns.histplot(df_log, x=\"G3\")"
   ]
  },
  {
   "cell_type": "markdown",
   "id": "1a9a5ee4",
   "metadata": {},
   "source": [
    "Nope. De verdeling is alleen maar schever geworden. We gaan kijken naar de boxplot van G3"
   ]
  },
  {
   "cell_type": "code",
   "execution_count": 30,
   "id": "345b5c87",
   "metadata": {},
   "outputs": [
    {
     "data": {
      "text/plain": [
       "<Axes: xlabel='G3'>"
      ]
     },
     "execution_count": 30,
     "metadata": {},
     "output_type": "execute_result"
    },
    {
     "data": {
      "image/png": "[encoded data removed]",
      "text/plain": [
       "<Figure size 640x480 with 1 Axes>"
      ]
     },
     "metadata": {},
     "output_type": "display_data"
    }
   ],
   "source": [
    "sns.boxplot(df, x='G3')"
   ]
  },
  {
   "cell_type": "markdown",
   "id": "1423d08f",
   "metadata": {},
   "source": [
    "G3 heeft vooral outliners bij 0.0 en rond de 1\n",
    "\n",
    "We kunnen overigens ook de scheefheid van de verdeling in een getal uitdrukken. We doen dat voor de age, absences, G1 en G3  zodat we ze kunnen vergelijken. Zie ook: [https://pandas.pydata.org/docs/reference/api/pandas.DataFrame.skew.html](https://pandas.pydata.org/docs/reference/api/pandas.DataFrame.skew.html)."
   ]
  },
  {
   "cell_type": "code",
   "execution_count": 31,
   "id": "54a72a89",
   "metadata": {},
   "outputs": [
    {
     "data": {
      "text/plain": [
       "(0.4340284903296568,\n",
       " 3.741346601057069,\n",
       " 0.07792245554991678,\n",
       " -0.9859646596265084)"
      ]
     },
     "execution_count": 31,
     "metadata": {},
     "output_type": "execute_result"
    }
   ],
   "source": [
    "df[\"age\"].skew(), df[\"absences\"].skew(), df[\"G1\"].skew(),  df[\"G3\"].skew()"
   ]
  },
  {
   "cell_type": "markdown",
   "id": "ec5ad119",
   "metadata": {},
   "source": [
    "Hoe groter het getal hoe schever naar rechts. Als je kijkt naar de verschillen tussen de drie getallen hierboven dan komt dat ook wel overeen met wat we zien in de histogrammen. absences is het meest scheef, G1 het minst.\n",
    "\n"
   ]
  },
  {
   "cell_type": "markdown",
   "id": "1110dcea",
   "metadata": {},
   "source": [
    "## Relaties tussen de variabelen\n",
    "\n",
    "We gaan nu kijken naar de relaties tussen de variabelen. We doen dat eerst systematisch door alle mogelijke tweetallen te bekijken. Daarbij is het nodig onderscheid te maken tussen een tweetal van numerieke variabelen, een tweetal van categorische variabelen, en een tweetal met een numerieke en een categorische variabelen. Vervolgens kijken we ook nog naar de mogelijkheid om naar de relatie tussen drie variabelen te kijken.\n"
   ]
  },
  {
   "cell_type": "markdown",
   "id": "8367e682",
   "metadata": {},
   "source": [
    "### Tweetallen van numerieke variabelen.\n",
    "\n",
    "Voor tweetallen van numerieke variabelen kun je makkelijk een overzicht maken van alle mogelijke combinaties door een correlatiematrix en een pairplot te maken. Laten we beginnen met een pairplot."
   ]
  },
  {
   "cell_type": "code",
   "execution_count": 49,
   "id": "6b6f3b16",
   "metadata": {},
   "outputs": [
    {
     "name": "stderr",
     "output_type": "stream",
     "text": [
      "C:\\Users\\corss\\anaconda3\\Lib\\site-packages\\seaborn\\axisgrid.py:118: UserWarning: The figure layout has changed to tight\n",
      "  self._figure.tight_layout(*args, **kwargs)\n"
     ]
    },
    {
     "data": {
      "text/plain": [
       "<seaborn.axisgrid.PairGrid at 0x239933abdd0>"
      ]
     },
     "execution_count": 49,
     "metadata": {},
     "output_type": "execute_result"
    },
    {
     "data": {
      "image/png": "[encoded data removed]",
      "text/plain": [
       "<Figure size 1000x1000 with 20 Axes>"
      ]
     },
     "metadata": {},
     "output_type": "display_data"
    }
   ],
   "source": [
    "sns.pairplot(df[num_vars])"
   ]
  },
  {
   "cell_type": "markdown",
   "id": "c5f2b366",
   "metadata": {},
   "source": [
    "Een pairplot maakt voor iedere combinatie van numerieke variabelen een scatterplot. Omdat het niet zo interessant is om een variabelen met zichzelf te vergelijken staan op de diagonaal histogrammen.\n",
    "\n",
    "Als je kijkt naar bovenstaande figuur dan lijken er best wat afhankelijkheden te zijn tussen de variabelen. Bijvoorbeeld tussen  G1 en G3. Dat zou je ook wel verwachten op grond van de betekenis van de variabelen. Als je eerste cijfer hoog is, dan heb je veel kans dat jouw eindcijfer ook hoog is. We kunnen de afhankelijkheid uitdrukken met de correlatie coëfficiënt.\n",
    "\n",
    "Hieronder zetten we ze in één keer in een tabel."
   ]
  },
  {
   "cell_type": "code",
   "execution_count": 50,
   "id": "7852b1da",
   "metadata": {},
   "outputs": [
    {
     "data": {
      "text/html": [
       "<div>\n",
       "<style scoped>\n",
       "    .dataframe tbody tr th:only-of-type {\n",
       "        vertical-align: middle;\n",
       "    }\n",
       "\n",
       "    .dataframe tbody tr th {\n",
       "        vertical-align: top;\n",
       "    }\n",
       "\n",
       "    .dataframe thead th {\n",
       "        text-align: right;\n",
       "    }\n",
       "</style>\n",
       "<table border=\"1\" class=\"dataframe\">\n",
       "  <thead>\n",
       "    <tr style=\"text-align: right;\">\n",
       "      <th></th>\n",
       "      <th>age</th>\n",
       "      <th>absences</th>\n",
       "      <th>G1</th>\n",
       "      <th>G3</th>\n",
       "    </tr>\n",
       "  </thead>\n",
       "  <tbody>\n",
       "    <tr>\n",
       "      <th>age</th>\n",
       "      <td>1.000000</td>\n",
       "      <td>0.153196</td>\n",
       "      <td>-0.124121</td>\n",
       "      <td>-0.125282</td>\n",
       "    </tr>\n",
       "    <tr>\n",
       "      <th>absences</th>\n",
       "      <td>0.153196</td>\n",
       "      <td>1.000000</td>\n",
       "      <td>-0.092425</td>\n",
       "      <td>-0.045671</td>\n",
       "    </tr>\n",
       "    <tr>\n",
       "      <th>G1</th>\n",
       "      <td>-0.124121</td>\n",
       "      <td>-0.092425</td>\n",
       "      <td>1.000000</td>\n",
       "      <td>0.809142</td>\n",
       "    </tr>\n",
       "    <tr>\n",
       "      <th>G3</th>\n",
       "      <td>-0.125282</td>\n",
       "      <td>-0.045671</td>\n",
       "      <td>0.809142</td>\n",
       "      <td>1.000000</td>\n",
       "    </tr>\n",
       "  </tbody>\n",
       "</table>\n",
       "</div>"
      ],
      "text/plain": [
       "               age  absences        G1        G3\n",
       "age       1.000000  0.153196 -0.124121 -0.125282\n",
       "absences  0.153196  1.000000 -0.092425 -0.045671\n",
       "G1       -0.124121 -0.092425  1.000000  0.809142\n",
       "G3       -0.125282 -0.045671  0.809142  1.000000"
      ]
     },
     "execution_count": 50,
     "metadata": {},
     "output_type": "execute_result"
    }
   ],
   "source": [
    "corr_matrix = df[num_vars].corr()\n",
    "corr_matrix"
   ]
  },
  {
   "cell_type": "markdown",
   "id": "7b635b72",
   "metadata": {},
   "source": [
    "Inderdaad. G1 en G3 hebben een hoge correlatie. Precies wat ik voorspelt had. \n",
    "\n",
    "Laten we inzoomen op G1 en G3. Die hebben naar verwachtiging een grote correlatie. We bestuderen die apart in een regplot. Dat is een scatterplot met daarin een regressielijn getekend."
   ]
  },
  {
   "cell_type": "code",
   "execution_count": 51,
   "id": "ed7d0207",
   "metadata": {},
   "outputs": [
    {
     "data": {
      "text/plain": [
       "<Axes: xlabel='G1', ylabel='G3'>"
      ]
     },
     "execution_count": 51,
     "metadata": {},
     "output_type": "execute_result"
    },
    {
     "data": {
      "image/png": "[encoded data removed]",
      "text/plain": [
       "<Figure size 640x480 with 1 Axes>"
      ]
     },
     "metadata": {},
     "output_type": "display_data"
    }
   ],
   "source": [
    "sns.regplot(df, x=\"G1\", y=\"G3\")"
   ]
  },
  {
   "cell_type": "markdown",
   "id": "a4ed79ec",
   "metadata": {},
   "source": [
    "Hieruit kan je inzien dat dit een zeer sterke correlatie is"
   ]
  },
  {
   "cell_type": "markdown",
   "id": "4af4e362",
   "metadata": {},
   "source": [
    "Het is mogelijk om een getal te geven aan de voorspellende kwaliteit van de regressielijn, namelijk de $R^2$. Voor twee variabelen is dat de correlatie coëfficiënt in het kwadraat. Waarom zijn hier zo veel outliers te zien? Dit komt omdat studenten naarmate het jaar, stoppen met de opleidingen. Als ze dat doen, krijgen ze een 0."
   ]
  },
  {
   "cell_type": "code",
   "execution_count": 52,
   "id": "6635d7e5",
   "metadata": {},
   "outputs": [
    {
     "data": {
      "text/plain": [
       "0.6547103239186217"
      ]
     },
     "execution_count": 52,
     "metadata": {},
     "output_type": "execute_result"
    }
   ],
   "source": [
    "r2 = df[\"G1\"].corr(df[\"G3\"])**2\n",
    "r2"
   ]
  },
  {
   "cell_type": "markdown",
   "id": "cb46475d",
   "metadata": {},
   "source": [
    "Dit betekend dat G1 veel uitmaakt voor G3 (Zonder de verwijderde outliers).\n",
    "\n",
    "\n",
    "### Tweetallen van categorische variabelen\n",
    "\n",
    "De tweetallen van categorische variabelen bekijken we stuk voor stuk. er zijn een aantal mogelijke optie. Deze heb ik gekozen omdat ik denk dat dee de meeste kans hebben op een correlatie.\n",
    "## Sex en Medu"
   ]
  },
  {
   "cell_type": "code",
   "execution_count": 53,
   "id": "53422d94",
   "metadata": {},
   "outputs": [
    {
     "name": "stdout",
     "output_type": "stream",
     "text": [
      "['sex', 'Medu', 'Fedu', 'reason']\n"
     ]
    }
   ],
   "source": [
    "print(cat_vars)"
   ]
  },
  {
   "cell_type": "code",
   "execution_count": 54,
   "id": "3fa6a2d2",
   "metadata": {},
   "outputs": [
    {
     "data": {
      "text/plain": [
       "<Axes: xlabel='sex', ylabel='count'>"
      ]
     },
     "execution_count": 54,
     "metadata": {},
     "output_type": "execute_result"
    },
    {
     "data": {
      "image/png": "[encoded data removed]",
      "text/plain": [
       "<Figure size 640x480 with 1 Axes>"
      ]
     },
     "metadata": {},
     "output_type": "display_data"
    }
   ],
   "source": [
    "\n",
    "sns.countplot(df, x=\"sex\", hue=\"Medu\")"
   ]
  },
  {
   "cell_type": "markdown",
   "id": "709ad14e",
   "metadata": {},
   "source": [
    "We kijken vooral naar 1t/m 4, omdat 0 maar heel weinig voor is gekomen.\n",
    "\n",
    "Het is mogelijk om de afhankelijkheid van sex en Medu uit te drukken in getallen. We doen daarvoor een $\\chi^2$ test. Het is dan wel aardig om eerst de kruistabel te bekijken."
   ]
  },
  {
   "cell_type": "code",
   "execution_count": 55,
   "id": "08fa62c9",
   "metadata": {},
   "outputs": [
    {
     "data": {
      "text/html": [
       "<div>\n",
       "<style scoped>\n",
       "    .dataframe tbody tr th:only-of-type {\n",
       "        vertical-align: middle;\n",
       "    }\n",
       "\n",
       "    .dataframe tbody tr th {\n",
       "        vertical-align: top;\n",
       "    }\n",
       "\n",
       "    .dataframe thead th {\n",
       "        text-align: right;\n",
       "    }\n",
       "</style>\n",
       "<table border=\"1\" class=\"dataframe\">\n",
       "  <thead>\n",
       "    <tr style=\"text-align: right;\">\n",
       "      <th>Medu</th>\n",
       "      <th>0</th>\n",
       "      <th>1</th>\n",
       "      <th>2</th>\n",
       "      <th>3</th>\n",
       "      <th>4</th>\n",
       "    </tr>\n",
       "    <tr>\n",
       "      <th>sex</th>\n",
       "      <th></th>\n",
       "      <th></th>\n",
       "      <th></th>\n",
       "      <th></th>\n",
       "      <th></th>\n",
       "    </tr>\n",
       "  </thead>\n",
       "  <tbody>\n",
       "    <tr>\n",
       "      <th>F</th>\n",
       "      <td>7</td>\n",
       "      <td>124</td>\n",
       "      <td>179</td>\n",
       "      <td>131</td>\n",
       "      <td>150</td>\n",
       "    </tr>\n",
       "    <tr>\n",
       "      <th>M</th>\n",
       "      <td>2</td>\n",
       "      <td>78</td>\n",
       "      <td>110</td>\n",
       "      <td>107</td>\n",
       "      <td>156</td>\n",
       "    </tr>\n",
       "  </tbody>\n",
       "</table>\n",
       "</div>"
      ],
      "text/plain": [
       "Medu  0    1    2    3    4\n",
       "sex                        \n",
       "F     7  124  179  131  150\n",
       "M     2   78  110  107  156"
      ]
     },
     "execution_count": 55,
     "metadata": {},
     "output_type": "execute_result"
    }
   ],
   "source": [
    "crosstab = pd.crosstab(df[\"sex\"], df[\"Medu\"])\n",
    "crosstab"
   ]
  },
  {
   "cell_type": "markdown",
   "id": "39ad30ec",
   "metadata": {},
   "source": [
    "Nu kunnen we de $\\chi^2$ test doen."
   ]
  },
  {
   "cell_type": "code",
   "execution_count": 56,
   "id": "39f6179a",
   "metadata": {},
   "outputs": [
    {
     "data": {
      "text/plain": [
       "'Chi kwadraat = 14.272893921173488, p-waarde = 0.006473143910811499'"
      ]
     },
     "execution_count": 56,
     "metadata": {},
     "output_type": "execute_result"
    }
   ],
   "source": [
    "results = stats.chi2_contingency(crosstab)\n",
    "\"Chi kwadraat = {}, p-waarde = {}\".format(results[0], results[1])"
   ]
  },
  {
   "cell_type": "markdown",
   "id": "5cb0613b",
   "metadata": {},
   "source": [
    "Dat is een zeer klein p-waarde. Er is dus waarschijnlijk sprake van afhankelijkheid. Voor de volgende combinaties laten we de $\\chi^2$ test voor wat die is en doen we de interpretatie 'op het oog'.\n",
    "\n",
    "#### Medu en Fedu"
   ]
  },
  {
   "cell_type": "code",
   "execution_count": 57,
   "id": "6cbf3375",
   "metadata": {},
   "outputs": [
    {
     "data": {
      "text/plain": [
       "<Axes: xlabel='sex', ylabel='count'>"
      ]
     },
     "execution_count": 57,
     "metadata": {},
     "output_type": "execute_result"
    },
    {
     "data": {
      "image/png": "[encoded data removed]",
      "text/plain": [
       "<Figure size 640x480 with 1 Axes>"
      ]
     },
     "metadata": {},
     "output_type": "display_data"
    }
   ],
   "source": [
    "sns.countplot(df, x=\"sex\", hue=\"Medu\")"
   ]
  },
  {
   "cell_type": "markdown",
   "id": "718fbf7a",
   "metadata": {},
   "source": [
    "Je ziet hier weer een afhankelijkheid"
   ]
  },
  {
   "cell_type": "markdown",
   "id": "11866f8e",
   "metadata": {},
   "source": [
    "### Tweetallen met een numerieke en een categorische waarde\n",
    "\n",
    "Als we een numerieke en een categorische variabele met elkaar vergelijken, dan zijn we geïnteresseerd in de verdelingen van de numerieke variabele per waarde die de categorische variabele aan kan nemen. De boxplot is daar erg geschikt voor.\n",
    "\n",
    "#### Medu en G3"
   ]
  },
  {
   "cell_type": "code",
   "execution_count": 58,
   "id": "d4c069ee",
   "metadata": {},
   "outputs": [
    {
     "name": "stdout",
     "output_type": "stream",
     "text": [
      "['age', 'absences', 'G1', 'G3']\n",
      "['sex', 'Medu', 'Fedu', 'reason']\n"
     ]
    }
   ],
   "source": [
    "print(num_vars)\n",
    "print(cat_vars)"
   ]
  },
  {
   "cell_type": "code",
   "execution_count": 59,
   "id": "a3b21450",
   "metadata": {},
   "outputs": [
    {
     "data": {
      "text/plain": [
       "<Axes: xlabel='Medu', ylabel='G3'>"
      ]
     },
     "execution_count": 59,
     "metadata": {},
     "output_type": "execute_result"
    },
    {
     "data": {
      "image/png": "[encoded data removed]",
      "text/plain": [
       "<Figure size 640x480 with 1 Axes>"
      ]
     },
     "metadata": {},
     "output_type": "display_data"
    }
   ],
   "source": [
    "sns.boxplot(df, x=\"Medu\", y=\"G3\")"
   ]
  },
  {
   "cell_type": "markdown",
   "id": "bcc56be1",
   "metadata": {},
   "source": [
    "Hier kan je zien dat de mediaan van het behaalde eindcijfer hoger ligt bij de studenten die een Medu education van 4 heeft dan andere cijfers. Je kan interpreteren dat slimmere studenten van slimmere vaders komen.\n",
    "## Fedu en G3"
   ]
  },
  {
   "cell_type": "code",
   "execution_count": 60,
   "id": "f26dc0fd",
   "metadata": {},
   "outputs": [
    {
     "data": {
      "text/plain": [
       "<Axes: xlabel='Fedu', ylabel='G3'>"
      ]
     },
     "execution_count": 60,
     "metadata": {},
     "output_type": "execute_result"
    },
    {
     "data": {
      "image/png": "[encoded data removed]",
      "text/plain": [
       "<Figure size 640x480 with 1 Axes>"
      ]
     },
     "metadata": {},
     "output_type": "display_data"
    }
   ],
   "source": [
    "sns.boxplot(df, x=\"Fedu\", y=\"G3\")"
   ]
  },
  {
   "cell_type": "markdown",
   "id": "7e097967",
   "metadata": {},
   "source": [
    "Hier kan je zien dat de mediaan van het behaalde eindcijfer hoger ligt bij de studenten die een Fedu education van 4 heeft dan andere cijfers. Je kan interpreteren dat slimmere studenten van slimmere moeders komen.\n",
    "\n",
    "## Conclusie\n",
    "- De meerderheid van de studenten zijn vrouwelijk\n",
    "- De gemiddelde leeftijd van de studenten is 17\n",
    "- In de dataset bevatten veel outliers\n",
    "- De variabelen G1 en G3 zijn sterk gecorreleerd\n",
    "- Moeders van studenten zijn voor het algemeen beter geschoold dan vaders\n",
    "- G3 hangt sterk af van de scholing van vaders en moeders (Medu en Fedu)\n",
    "\n",
    "Ik wil graag voorspellen wat samenhang is van de eindcijfer en de afhankelijke variabelen"
   ]
  },
  {
   "cell_type": "code",
   "execution_count": null,
   "id": "c122f2b8",
   "metadata": {},
   "outputs": [],
   "source": []
  }
 ],
 "metadata": {
  "kernelspec": {
   "display_name": "Python 3 (ipykernel)",
   "language": "python",
   "name": "python3"
  },
  "language_info": {
   "codemirror_mode": {
    "name": "ipython",
    "version": 3
   },
   "file_extension": ".py",
   "mimetype": "text/x-python",
   "name": "python",
   "nbconvert_exporter": "python",
   "pygments_lexer": "ipython3",
   "version": "3.11.5"
  }
 },
 "nbformat": 4,
 "nbformat_minor": 5
}
